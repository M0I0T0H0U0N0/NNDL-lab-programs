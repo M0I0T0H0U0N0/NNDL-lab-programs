{
 "cells": [
  {
   "cell_type": "code",
   "execution_count": 2,
   "id": "47e7b3c3",
   "metadata": {},
   "outputs": [],
   "source": [
    "from tensorflow.keras import layers\n",
    "import numpy as np\n",
    "from tensorflow import keras\n",
    "from tensorflow.keras.applications import VGG16,VGG19 ,ResNet50\n",
    "from tensorflow.keras.datasets import cifar10\n",
    "from keras.utils import to_categorical"
   ]
  },
  {
   "cell_type": "code",
   "execution_count": 3,
   "id": "03174a80",
   "metadata": {},
   "outputs": [],
   "source": [
    "(x_train,y_train),(x_test,y_test)=cifar10.load_data()\n",
    "\n",
    "x_train=x_train.astype(\"float32\")/255.0\n",
    "x_test=x_test.astype(\"float32\")/255.0\n",
    "\n",
    "\n"
   ]
  },
  {
   "cell_type": "code",
   "execution_count": 4,
   "id": "c20bdf97",
   "metadata": {},
   "outputs": [],
   "source": [
    "y_train=to_categorical(y_train,10)\n",
    "y_test=to_categorical(y_test,10)"
   ]
  },
  {
   "cell_type": "code",
   "execution_count": 5,
   "id": "0ca92ef4",
   "metadata": {},
   "outputs": [],
   "source": [
    "vgg16=VGG16(weights=\"imagenet\",include_top=False,input_shape=(32,32,3))\n",
    "vgg19=VGG19(weights=\"imagenet\",include_top=False,input_shape=(32,32,3))\n",
    "resnet=ResNet50(weights=\"imagenet\",include_top=False,input_shape=(32,32,3))"
   ]
  },
  {
   "cell_type": "code",
   "execution_count": 6,
   "id": "da25ad83",
   "metadata": {},
   "outputs": [],
   "source": [
    "vgg16_output=layers.GlobalAveragePooling2D()(vgg16.output)\n",
    "vgg16_output=layers.Dense(10,activation=\"softmax\")(vgg16_output)\n",
    "\n",
    "vgg19_output=layers.GlobalAveragePooling2D()(vgg19.output)\n",
    "vgg19_output=layers.Dense(10,activation=\"softmax\")(vgg19_output)\n",
    "\n",
    "resnet_output=layers.GlobalAveragePooling2D()(resnet.output)\n",
    "resnet_output=layers.Dense(10,activation=\"softmax\")(resnet_output)"
   ]
  },
  {
   "cell_type": "code",
   "execution_count": 9,
   "id": "5de5e47d",
   "metadata": {},
   "outputs": [],
   "source": [
    "vgg16_model = keras.Model(inputs=vgg16.input, outputs=vgg16_output)\n",
    "vgg19_model = keras.Model(inputs=vgg19.input, outputs=vgg19_output)\n",
    "resnet_model = keras.Model(inputs=resnet.input, outputs=resnet_output)\n"
   ]
  },
  {
   "cell_type": "code",
   "execution_count": 12,
   "id": "6de8b871",
   "metadata": {},
   "outputs": [],
   "source": [
    "vgg16_model.compile(loss=\"categorical_crossentropy\",optimizer=\"adam\",metrics=[\"accuracy\"])\n",
    "vgg19_model.compile(loss=\"categorical_crossentropy\",optimizer=\"adam\",metrics=[\"accuracy\"])\n",
    "resnet_model.compile(loss=\"categorical_crossentropy\",optimizer=\"adam\",metrics=[\"accuracy\"])"
   ]
  },
  {
   "cell_type": "code",
   "execution_count": 13,
   "id": "550f25fb",
   "metadata": {},
   "outputs": [],
   "source": [
    "vgg16_loss,vgg16_accuracy=vgg16_model.evaluate(x_test,y_test,verbose=0)\n",
    "vgg19_loss,vgg19_accuracy=vgg19_model.evaluate(x_test,y_test,verbose=0)\n",
    "resnet_loss,resnet_accuracy=resnet_model.evaluate(x_test,y_test,verbose=0)"
   ]
  },
  {
   "cell_type": "code",
   "execution_count": 14,
   "id": "3ed30502",
   "metadata": {},
   "outputs": [
    {
     "name": "stdout",
     "output_type": "stream",
     "text": [
      "vgg16 test accuracy: 0.0940999984741211\n",
      "vgg19 test accuracy: 0.09920000284910202\n",
      "resnet test accuracy 0.10000000149011612\n"
     ]
    }
   ],
   "source": [
    "print(\"vgg16 test accuracy:\",vgg16_accuracy)\n",
    "print(\"vgg19 test accuracy:\",vgg19_accuracy)\n",
    "print(\"resnet test accuracy\",resnet_accuracy)"
   ]
  },
  {
   "cell_type": "code",
   "execution_count": null,
   "id": "913dd357",
   "metadata": {},
   "outputs": [],
   "source": []
  }
 ],
 "metadata": {
  "kernelspec": {
   "display_name": "Python 3 (ipykernel)",
   "language": "python",
   "name": "python3"
  },
  "language_info": {
   "codemirror_mode": {
    "name": "ipython",
    "version": 3
   },
   "file_extension": ".py",
   "mimetype": "text/x-python",
   "name": "python",
   "nbconvert_exporter": "python",
   "pygments_lexer": "ipython3",
   "version": "3.9.13"
  }
 },
 "nbformat": 4,
 "nbformat_minor": 5
}
