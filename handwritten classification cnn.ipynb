{
 "cells": [
  {
   "cell_type": "code",
   "execution_count": 8,
   "id": "271e9bef",
   "metadata": {},
   "outputs": [],
   "source": [
    "from sklearn import datasets\n",
    "from keras.utils import to_categorical\n",
    "from sklearn.model_selection import train_test_split\n",
    "from keras.models import Sequential\n",
    "from keras.layers import Conv2D,MaxPooling2D,Flatten ,Dense\n",
    "from keras.callbacks import EarlyStopping, ModelCheckpoint\n",
    "import matplotlib.pyplot as plt"
   ]
  },
  {
   "cell_type": "code",
   "execution_count": 9,
   "id": "d671fda3",
   "metadata": {},
   "outputs": [],
   "source": [
    "data=datasets.load_digits()\n",
    "x=data.images\n",
    "y=data.target"
   ]
  },
  {
   "cell_type": "code",
   "execution_count": 10,
   "id": "1a58e890",
   "metadata": {},
   "outputs": [],
   "source": [
    "x=x.reshape((x.shape[0],8,8,1))\n",
    "x=x.astype('float32')/255\n",
    "y=to_categorical(y)"
   ]
  },
  {
   "cell_type": "code",
   "execution_count": 11,
   "id": "a41e4a33",
   "metadata": {},
   "outputs": [],
   "source": [
    "x_train,x_test,y_train,y_test=train_test_split(x,y,test_size=0.2)"
   ]
  },
  {
   "cell_type": "code",
   "execution_count": 16,
   "id": "6266792a",
   "metadata": {},
   "outputs": [],
   "source": [
    "model=Sequential()\n",
    "model.add(Conv2D(32,kernel_size=(3,3),activation='relu',input_shape=(8,8,1)))\n",
    "model.add(MaxPooling2D(pool_size=(2,2)))\n",
    "model.add(Flatten())\n",
    "model.add(Dense(64,activation='relu'))\n",
    "model.add(Dense(10,activation='softmax'))\n",
    "\n",
    "model.compile(optimizer='adam',loss='categorical_crossentropy',metrics='accuracy')"
   ]
  },
  {
   "cell_type": "code",
   "execution_count": 21,
   "id": "a676520d",
   "metadata": {},
   "outputs": [],
   "source": [
    "earlystop=EarlyStopping(monitor='val_loss',patience=10)\n",
    "best_weights=ModelCheckpoint('best_weights.h5',save_best_only=True , monitor='val_loss',mode='min')"
   ]
  },
  {
   "cell_type": "code",
   "execution_count": 22,
   "id": "faa3241a",
   "metadata": {},
   "outputs": [
    {
     "name": "stdout",
     "output_type": "stream",
     "text": [
      "Epoch 1/50\n",
      "45/45 [==============================] - 1s 4ms/step - loss: 2.2896 - accuracy: 0.1747 - val_loss: 2.2681 - val_accuracy: 0.4944\n",
      "Epoch 2/50\n",
      "45/45 [==============================] - 0s 3ms/step - loss: 2.2164 - accuracy: 0.5164 - val_loss: 2.1500 - val_accuracy: 0.6083\n",
      "Epoch 3/50\n",
      " 1/45 [..............................] - ETA: 0s - loss: 2.1255 - accuracy: 0.7500"
     ]
    },
    {
     "name": "stderr",
     "output_type": "stream",
     "text": [
      "C:\\Users\\Student\\AppData\\Roaming\\Python\\Python311\\site-packages\\keras\\src\\engine\\training.py:3000: UserWarning: You are saving your model as an HDF5 file via `model.save()`. This file format is considered legacy. We recommend using instead the native Keras format, e.g. `model.save('my_model.keras')`.\n",
      "  saving_api.save_model(\n"
     ]
    },
    {
     "name": "stdout",
     "output_type": "stream",
     "text": [
      "45/45 [==============================] - 0s 2ms/step - loss: 2.0175 - accuracy: 0.6695 - val_loss: 1.8698 - val_accuracy: 0.6806\n",
      "Epoch 4/50\n",
      "45/45 [==============================] - 0s 2ms/step - loss: 1.6441 - accuracy: 0.7676 - val_loss: 1.4283 - val_accuracy: 0.7917\n",
      "Epoch 5/50\n",
      "45/45 [==============================] - 0s 2ms/step - loss: 1.2176 - accuracy: 0.8427 - val_loss: 1.0500 - val_accuracy: 0.8222\n",
      "Epoch 6/50\n",
      "45/45 [==============================] - 0s 2ms/step - loss: 0.8846 - accuracy: 0.8615 - val_loss: 0.7856 - val_accuracy: 0.8667\n",
      "Epoch 7/50\n",
      "45/45 [==============================] - 0s 2ms/step - loss: 0.6952 - accuracy: 0.8747 - val_loss: 0.6295 - val_accuracy: 0.8833\n",
      "Epoch 8/50\n",
      "45/45 [==============================] - 0s 2ms/step - loss: 0.5569 - accuracy: 0.8963 - val_loss: 0.5345 - val_accuracy: 0.8833\n",
      "Epoch 9/50\n",
      "45/45 [==============================] - 0s 2ms/step - loss: 0.4759 - accuracy: 0.9061 - val_loss: 0.4721 - val_accuracy: 0.8889\n",
      "Epoch 10/50\n",
      "45/45 [==============================] - 0s 2ms/step - loss: 0.4133 - accuracy: 0.9144 - val_loss: 0.4230 - val_accuracy: 0.8944\n",
      "Epoch 11/50\n",
      "45/45 [==============================] - 0s 2ms/step - loss: 0.3724 - accuracy: 0.9179 - val_loss: 0.3762 - val_accuracy: 0.8917\n",
      "Epoch 12/50\n",
      "45/45 [==============================] - 0s 2ms/step - loss: 0.3319 - accuracy: 0.9248 - val_loss: 0.3429 - val_accuracy: 0.9028\n",
      "Epoch 13/50\n",
      "45/45 [==============================] - 0s 2ms/step - loss: 0.3017 - accuracy: 0.9332 - val_loss: 0.3130 - val_accuracy: 0.9250\n",
      "Epoch 14/50\n",
      "45/45 [==============================] - 0s 2ms/step - loss: 0.2816 - accuracy: 0.9353 - val_loss: 0.2995 - val_accuracy: 0.9250\n",
      "Epoch 15/50\n",
      "45/45 [==============================] - 0s 2ms/step - loss: 0.2530 - accuracy: 0.9429 - val_loss: 0.2822 - val_accuracy: 0.9111\n",
      "Epoch 16/50\n",
      "45/45 [==============================] - 0s 2ms/step - loss: 0.2376 - accuracy: 0.9457 - val_loss: 0.2531 - val_accuracy: 0.9278\n",
      "Epoch 17/50\n",
      "45/45 [==============================] - 0s 2ms/step - loss: 0.2234 - accuracy: 0.9478 - val_loss: 0.2528 - val_accuracy: 0.9222\n",
      "Epoch 18/50\n",
      "45/45 [==============================] - 0s 2ms/step - loss: 0.2143 - accuracy: 0.9513 - val_loss: 0.2283 - val_accuracy: 0.9333\n",
      "Epoch 19/50\n",
      "45/45 [==============================] - 0s 2ms/step - loss: 0.2079 - accuracy: 0.9429 - val_loss: 0.2174 - val_accuracy: 0.9333\n",
      "Epoch 20/50\n",
      "45/45 [==============================] - 0s 2ms/step - loss: 0.1844 - accuracy: 0.9569 - val_loss: 0.2199 - val_accuracy: 0.9278\n",
      "Epoch 21/50\n",
      "45/45 [==============================] - 0s 2ms/step - loss: 0.1762 - accuracy: 0.9610 - val_loss: 0.1922 - val_accuracy: 0.9472\n",
      "Epoch 22/50\n",
      "45/45 [==============================] - 0s 2ms/step - loss: 0.1663 - accuracy: 0.9596 - val_loss: 0.2030 - val_accuracy: 0.9389\n",
      "Epoch 23/50\n",
      "45/45 [==============================] - 0s 2ms/step - loss: 0.1660 - accuracy: 0.9610 - val_loss: 0.1796 - val_accuracy: 0.9500\n",
      "Epoch 24/50\n",
      "45/45 [==============================] - 0s 2ms/step - loss: 0.1546 - accuracy: 0.9589 - val_loss: 0.1847 - val_accuracy: 0.9528\n",
      "Epoch 25/50\n",
      "45/45 [==============================] - 0s 2ms/step - loss: 0.1479 - accuracy: 0.9638 - val_loss: 0.1759 - val_accuracy: 0.9583\n",
      "Epoch 26/50\n",
      "45/45 [==============================] - 0s 2ms/step - loss: 0.1399 - accuracy: 0.9645 - val_loss: 0.1679 - val_accuracy: 0.9583\n",
      "Epoch 27/50\n",
      "45/45 [==============================] - 0s 2ms/step - loss: 0.1373 - accuracy: 0.9673 - val_loss: 0.1580 - val_accuracy: 0.9556\n",
      "Epoch 28/50\n",
      "45/45 [==============================] - 0s 2ms/step - loss: 0.1337 - accuracy: 0.9680 - val_loss: 0.1634 - val_accuracy: 0.9500\n",
      "Epoch 29/50\n",
      "45/45 [==============================] - 0s 2ms/step - loss: 0.1270 - accuracy: 0.9722 - val_loss: 0.1556 - val_accuracy: 0.9639\n",
      "Epoch 30/50\n",
      "45/45 [==============================] - 0s 2ms/step - loss: 0.1205 - accuracy: 0.9715 - val_loss: 0.1423 - val_accuracy: 0.9667\n",
      "Epoch 31/50\n",
      "45/45 [==============================] - 0s 2ms/step - loss: 0.1187 - accuracy: 0.9701 - val_loss: 0.1407 - val_accuracy: 0.9694\n",
      "Epoch 32/50\n",
      "45/45 [==============================] - 0s 2ms/step - loss: 0.1144 - accuracy: 0.9722 - val_loss: 0.1347 - val_accuracy: 0.9694\n",
      "Epoch 33/50\n",
      "45/45 [==============================] - 0s 2ms/step - loss: 0.1099 - accuracy: 0.9715 - val_loss: 0.1404 - val_accuracy: 0.9528\n",
      "Epoch 34/50\n",
      "45/45 [==============================] - 0s 2ms/step - loss: 0.1077 - accuracy: 0.9743 - val_loss: 0.1336 - val_accuracy: 0.9694\n",
      "Epoch 35/50\n",
      "45/45 [==============================] - 0s 2ms/step - loss: 0.1051 - accuracy: 0.9749 - val_loss: 0.1325 - val_accuracy: 0.9694\n",
      "Epoch 36/50\n",
      "45/45 [==============================] - 0s 2ms/step - loss: 0.1012 - accuracy: 0.9743 - val_loss: 0.1240 - val_accuracy: 0.9722\n",
      "Epoch 37/50\n",
      "45/45 [==============================] - 0s 2ms/step - loss: 0.0957 - accuracy: 0.9798 - val_loss: 0.1330 - val_accuracy: 0.9639\n",
      "Epoch 38/50\n",
      "45/45 [==============================] - 0s 2ms/step - loss: 0.0927 - accuracy: 0.9777 - val_loss: 0.1194 - val_accuracy: 0.9667\n",
      "Epoch 39/50\n",
      "45/45 [==============================] - 0s 2ms/step - loss: 0.0933 - accuracy: 0.9756 - val_loss: 0.1269 - val_accuracy: 0.9667\n",
      "Epoch 40/50\n",
      "45/45 [==============================] - 0s 2ms/step - loss: 0.0875 - accuracy: 0.9791 - val_loss: 0.1128 - val_accuracy: 0.9694\n",
      "Epoch 41/50\n",
      "45/45 [==============================] - 0s 2ms/step - loss: 0.0868 - accuracy: 0.9798 - val_loss: 0.1172 - val_accuracy: 0.9667\n",
      "Epoch 42/50\n",
      "45/45 [==============================] - 0s 2ms/step - loss: 0.0874 - accuracy: 0.9736 - val_loss: 0.1148 - val_accuracy: 0.9694\n",
      "Epoch 43/50\n",
      "45/45 [==============================] - 0s 2ms/step - loss: 0.0811 - accuracy: 0.9805 - val_loss: 0.1210 - val_accuracy: 0.9694\n",
      "Epoch 44/50\n",
      "45/45 [==============================] - 0s 2ms/step - loss: 0.0777 - accuracy: 0.9798 - val_loss: 0.1104 - val_accuracy: 0.9694\n",
      "Epoch 45/50\n",
      "45/45 [==============================] - 0s 2ms/step - loss: 0.0752 - accuracy: 0.9805 - val_loss: 0.1099 - val_accuracy: 0.9694\n",
      "Epoch 46/50\n",
      "45/45 [==============================] - 0s 2ms/step - loss: 0.0735 - accuracy: 0.9826 - val_loss: 0.1115 - val_accuracy: 0.9694\n",
      "Epoch 47/50\n",
      "45/45 [==============================] - 0s 2ms/step - loss: 0.0729 - accuracy: 0.9840 - val_loss: 0.1027 - val_accuracy: 0.9750\n",
      "Epoch 48/50\n",
      "45/45 [==============================] - 0s 2ms/step - loss: 0.0690 - accuracy: 0.9833 - val_loss: 0.1042 - val_accuracy: 0.9722\n",
      "Epoch 49/50\n",
      "45/45 [==============================] - 0s 2ms/step - loss: 0.0642 - accuracy: 0.9847 - val_loss: 0.1059 - val_accuracy: 0.9667\n",
      "Epoch 50/50\n",
      "45/45 [==============================] - 0s 2ms/step - loss: 0.0648 - accuracy: 0.9847 - val_loss: 0.1033 - val_accuracy: 0.9722\n"
     ]
    }
   ],
   "source": [
    "history=model.fit(x_train,y_train,epochs=50,batch_size=32,validation_data=(x_test,y_test),\n",
    "                  callbacks=[earlystop ,best_weights])"
   ]
  },
  {
   "cell_type": "markdown",
   "id": "d582562c",
   "metadata": {},
   "source": [
    "# plotting"
   ]
  },
  {
   "cell_type": "code",
   "execution_count": 24,
   "id": "1f34246a",
   "metadata": {},
   "outputs": [
    {
     "data": {
      "image/png": "[encoded data removed]",
      "text/plain": [
       "<Figure size 640x480 with 1 Axes>"
      ]
     },
     "metadata": {},
     "output_type": "display_data"
    },
    {
     "data": {
      "image/png": "[encoded data removed]",
      "text/plain": [
       "<Figure size 640x480 with 1 Axes>"
      ]
     },
     "metadata": {},
     "output_type": "display_data"
    }
   ],
   "source": [
    "plt.plot(history.history['val_loss'])\n",
    "plt.title(\"validation loss\")\n",
    "plt.ylabel('loss')\n",
    "plt.xlabel('epoch')\n",
    "plt.show()\n",
    "\n",
    "plt.plot(history.history['val_accuracy'])\n",
    "plt.title(\"validation accuracy\")\n",
    "plt.ylabel(\"accuracy\")\n",
    "plt.xlabel(\"epoch\")\n",
    "plt.show()"
   ]
  },
  {
   "cell_type": "code",
   "execution_count": 25,
   "id": "65f6feb7",
   "metadata": {},
   "outputs": [],
   "source": [
    "model.load_weights(\"best_weights.h5\")"
   ]
  },
  {
   "cell_type": "code",
   "execution_count": 27,
   "id": "e0dedd0a",
   "metadata": {},
   "outputs": [
    {
     "name": "stdout",
     "output_type": "stream",
     "text": [
      "test loss: 0.10266134142875671\n",
      "test accuracy: 0.9750000238418579\n"
     ]
    }
   ],
   "source": [
    "test_loss,test_acc=model.evaluate(x_test,y_test,verbose=0)\n",
    "print(\"test loss:\",test_loss)\n",
    "print(\"test accuracy:\",test_acc)"
   ]
  },
  {
   "cell_type": "code",
   "execution_count": null,
   "id": "748f6c24",
   "metadata": {},
   "outputs": [],
   "source": []
  }
 ],
 "metadata": {
  "kernelspec": {
   "display_name": "Python 3 (ipykernel)",
   "language": "python",
   "name": "python3"
  },
  "language_info": {
   "codemirror_mode": {
    "name": "ipython",
    "version": 3
   },
   "file_extension": ".py",
   "mimetype": "text/x-python",
   "name": "python",
   "nbconvert_exporter": "python",
   "pygments_lexer": "ipython3",
   "version": "3.11.3"
  }
 },
 "nbformat": 4,
 "nbformat_minor": 5
}
